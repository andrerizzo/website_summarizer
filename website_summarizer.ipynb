{
 "cells": [
  {
   "cell_type": "markdown",
   "id": "a835cf54",
   "metadata": {},
   "source": [
    "# LLM Summarizer"
   ]
  },
  {
   "cell_type": "markdown",
   "id": "bdbd2dfc",
   "metadata": {},
   "source": [
    "### Autor: André Rizzo"
   ]
  },
  {
   "cell_type": "markdown",
   "id": "233dd5bc",
   "metadata": {},
   "source": [
    "Objetivo: Realizar o resumo de páginas web informadas pelo usuário.  \n",
    "\n",
    "<br>\n",
    "\n",
    "---"
   ]
  },
  {
   "cell_type": "markdown",
   "id": "7d546e13",
   "metadata": {},
   "source": [
    "### Carregar bibliotecas"
   ]
  },
  {
   "cell_type": "code",
   "execution_count": null,
   "id": "c594257d",
   "metadata": {},
   "outputs": [],
   "source": [
    "import os\n",
    "import requests\n",
    "\n",
    "from dotenv import load_dotenv\n",
    "from bs4 import BeautifulSoup\n",
    "from IPython.display import Markdown, display\n",
    "from openai import OpenAI\n",
    "\n",
    "from markdown import markdown as md_to_html\n",
    "from IPython.display import display, HTML"
   ]
  },
  {
   "cell_type": "markdown",
   "id": "6ac28f68",
   "metadata": {},
   "source": [
    "### Carregar API key"
   ]
  },
  {
   "cell_type": "code",
   "execution_count": 2,
   "id": "52098d0e",
   "metadata": {},
   "outputs": [
    {
     "name": "stdout",
     "output_type": "stream",
     "text": [
      "API key loaded successfully.\n"
     ]
    }
   ],
   "source": [
    "load_dotenv(override=True)\n",
    "api_key = os.getenv(\"OPENAI_API_KEY\")\n",
    "if not api_key:\n",
    "    raise ValueError(\"Please set the OPENAI_API_KEY environment variable.\")\n",
    "else:\n",
    "    print(\"API key loaded successfully.\")"
   ]
  },
  {
   "cell_type": "markdown",
   "id": "0b465118",
   "metadata": {},
   "source": [
    "### Inicializa o cliente OpenAI para interagir com os serviços da OpenAI"
   ]
  },
  {
   "cell_type": "code",
   "execution_count": 3,
   "id": "3ba72a68",
   "metadata": {},
   "outputs": [],
   "source": [
    "openai = OpenAI()"
   ]
  },
  {
   "cell_type": "markdown",
   "id": "f81a8597",
   "metadata": {},
   "source": [
    "#### Testar o funcionamento da API"
   ]
  },
  {
   "cell_type": "code",
   "execution_count": 4,
   "id": "4e76fba8",
   "metadata": {},
   "outputs": [
    {
     "name": "stdout",
     "output_type": "stream",
     "text": [
      "Oi! Sim, recebi a sua mensagem. Estou aqui para ajudar com o que você precisar no Jupyter Notebook ou em qualquer outro assunto. Como posso te ajudar hoje?\n"
     ]
    }
   ],
   "source": [
    "message = \"Oi ChatGPT ! Estou testando o seu funcionamento com o Jupyter Notebook. Você recebeu a minha mensagem ?\"\n",
    "response = openai.chat.completions.create(\n",
    "    model=\"gpt-4o-mini\",\n",
    "    messages=[{\"role\": \"user\", \"content\": message}],\n",
    "    temperature=0.7,\n",
    "    max_tokens=150,\n",
    ")\n",
    "print(response.choices[0].message.content)"
   ]
  },
  {
   "cell_type": "markdown",
   "id": "e5dc4cce",
   "metadata": {},
   "source": [
    "---"
   ]
  },
  {
   "cell_type": "markdown",
   "id": "2f28af50",
   "metadata": {},
   "source": [
    "### Classe para extrair e limpar o conteúdo de uma página web a partir de sua URL"
   ]
  },
  {
   "cell_type": "code",
   "execution_count": 5,
   "id": "7295b568",
   "metadata": {},
   "outputs": [],
   "source": [
    "class Website:\n",
    "    \n",
    "    def __init__(self, url):\n",
    "        \"\"\"\n",
    "        Extrai, limpa e analisa o conteúdo de um site.\n",
    "\n",
    "        Args:\n",
    "            url (str): URL do site a ser analisado.\n",
    "\n",
    "        Returns:\n",
    "            title: Título da página.\n",
    "            content: Conteúdo da página.\n",
    "        \"\"\"\n",
    "        self.url = url\n",
    "        \n",
    "        # Obter o conteúdo HTML da página\n",
    "        response = requests.get(url)\n",
    "        \n",
    "        # Verificar se a requisição foi bem-sucedida\n",
    "        if not response.status_code == 200:\n",
    "            raise Exception(f\"Failed to retrieve the webpage. Status code: {response.status_code}\")\n",
    "        \n",
    "        # Criar o objeto BeautifulSoup para analisar o HTML\n",
    "        soup = BeautifulSoup(response.content, 'html.parser')\n",
    "        \n",
    "        # Extrair o título da página\n",
    "        self.title = soup.title.string if soup.title else \"Título não encontrado\"\n",
    "        \n",
    "        # Excluir tags que não possuem conteúdo relevante\n",
    "        for irrelevant in soup.body([\"script\", \"style\", \"img\", \"input\"]):\n",
    "            irrelevant.decompose()\n",
    "        \n",
    "        # Extrair o conteúdo relevante da página\n",
    "        self.content = soup.get_text(separator=\"\\n\", strip=True) \n",
    "        \n",
    "        \n",
    "\n"
   ]
  },
  {
   "cell_type": "markdown",
   "id": "60a25e6f",
   "metadata": {},
   "source": [
    "---"
   ]
  },
  {
   "cell_type": "markdown",
   "id": "c904436f",
   "metadata": {},
   "source": []
  },
  {
   "cell_type": "code",
   "execution_count": 7,
   "id": "c39cd9a6",
   "metadata": {},
   "outputs": [],
   "source": [
    "system_prompt = \"Você é um assistente que analisa o conteúdo de um site \\\n",
    "    e fornece um resumo curto, ignorando textos que possam estar relacionados \\\n",
    "    à navegação. Responda em markdown.\"\n",
    "\n",
    "\n",
    "def user_prompt_para_llm(website):\n",
    "    \"\"\"\n",
    "    Cria um prompt (user prompt) para o modelo de linguagem.\n",
    "\n",
    "    Args:\n",
    "        website (Website): Objeto Website com o conteúdo a ser analisado.\n",
    "\n",
    "    Returns:\n",
    "        str: Prompt formatado.\n",
    "    \"\"\"\n",
    "    user_prompt = f\"\\nEnviarei abaixo o conteúdo do site {website.title} e você \\\n",
    "            deverá criar um pequeno resumo das notícias publicads. O conteúdo deve ser \\\n",
    "            respondido em markdown.\"\n",
    "    user_prompt += website.content\n",
    "    return user_prompt\n",
    "    \n",
    "\n",
    "\n",
    "\n",
    "def mensagens_para_llm(website):\n",
    "    \"\"\"\n",
    "    Cria uma lista de mensagens para o modelo de linguagem.\n",
    "\n",
    "    Returns:\n",
    "        list: Lista de mensagens formatadas.\n",
    "    \"\"\"\n",
    "    mensagens = [\n",
    "        {\"role\": \"system\", \"content\": system_prompt},\n",
    "        {\"role\": \"user\", \"content\": user_prompt_para_llm(website)},\n",
    "    ]\n",
    "    return mensagens\n",
    "\n",
    "\n",
    "def summarize(url):\n",
    "    \"\"\"\n",
    "    Resumo do conteúdo de um site.\n",
    "\n",
    "    Args:\n",
    "        url (str): URL do site a ser analisado.\n",
    "\n",
    "    Returns:\n",
    "        str: Resumo do conteúdo da página.\n",
    "    \"\"\"\n",
    "    # Criar o objeto Website\n",
    "    website = Website(url)\n",
    "    \n",
    "    # Chama a API do OpenAI com o modelo de linguagem\n",
    "    # passando os prompts formatados e o conteúdo do site\n",
    "    response = openai.chat.completions.create(\n",
    "        model=\"gpt-4o-mini\",\n",
    "        messages=mensagens_para_llm(website)\n",
    "    )\n",
    "    \n",
    "    return response.choices[0].message.content\n",
    "\n",
    "\n",
    "def resumo_website(url):\n",
    "    \"\"\"\n",
    "    Exibe o texto formatado em Markdown no Jupyter Notebook.\n",
    "\n",
    "    Args:\n",
    "        text (str): Texto a ser exibido.\n",
    "    \"\"\"\n",
    "    summary = summarize(url)\n",
    "    #display(Markdown(summary))\n",
    "    display(HTML(md_to_html(summary)))"
   ]
  },
  {
   "cell_type": "code",
   "execution_count": 9,
   "id": "2ac371ed",
   "metadata": {},
   "outputs": [
    {
     "data": {
      "text/html": [
       "<p>```markdown</p>\n",
       "<h2>Resumo das Principais Notícias</h2>\n",
       "<ul>\n",
       "<li>\n",
       "<p><strong>Conflito Ucrânia-Rússia</strong>: A Rússia lançou ataques mortais na capital da Ucrânia, Kyiv, marcando as ofensivas mais devastadoras desde o verão passado. Donald Trump reagiu pedindo a Vladimir Putin para interromper os ataques, enquanto analistas discutem as consequências da proposta de Trump de concessões territoriais à Rússia.</p>\n",
       "</li>\n",
       "<li>\n",
       "<p><strong>Massacre em Caxemira</strong>: Um ataque a turistas na Caxemira está intensificando as tensões entre a Índia e o Paquistão, gerando preocupações sobre a escalada no confronto entre os dois países.</p>\n",
       "</li>\n",
       "<li>\n",
       "<p><strong>Saúde de Bolsonaro</strong>: A saúde do ex-presidente Jair Bolsonaro piorou após uma cirurgia, levando à preocupação sobre sua recuperação.</p>\n",
       "</li>\n",
       "<li>\n",
       "<p><strong>Novidades no Menu do McDonald's</strong>: A rede de fast-food anunciou a adição de um novo item permanente ao seu menu pela primeira vez em quatro anos.</p>\n",
       "</li>\n",
       "<li>\n",
       "<p><strong>Impacto das Tarifa de Trump</strong>: A guerra comercial de Trump com a China está sendo criticada por líderes empresariais e analistas, que alertam que pode ter efeitos prejudiciais sobre a prosperidade econômica dos EUA.</p>\n",
       "</li>\n",
       "<li>\n",
       "<p><strong>Eventos Recorrentes e Cultura Pop</strong>: Rebeca Andrade comentou sobre seu momento viral no pódio, enquanto o envolvimento de Jay Leno como cuidador de sua esposa foi destacado em uma nova narrativa emocional.</p>\n",
       "</li>\n",
       "</ul>\n",
       "<p>Este resumo reflete os eventos mais relevantes e suas implicações no cenário atual.\n",
       "```</p>"
      ],
      "text/plain": [
       "<IPython.core.display.HTML object>"
      ]
     },
     "metadata": {},
     "output_type": "display_data"
    }
   ],
   "source": [
    "url = 'https://www.cnn.com'\n",
    "resumo_website(url)"
   ]
  }
 ],
 "metadata": {
  "kernelspec": {
   "display_name": "venv",
   "language": "python",
   "name": "python3"
  },
  "language_info": {
   "codemirror_mode": {
    "name": "ipython",
    "version": 3
   },
   "file_extension": ".py",
   "mimetype": "text/x-python",
   "name": "python",
   "nbconvert_exporter": "python",
   "pygments_lexer": "ipython3",
   "version": "3.11.9"
  }
 },
 "nbformat": 4,
 "nbformat_minor": 5
}
